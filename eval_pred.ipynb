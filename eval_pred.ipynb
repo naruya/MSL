{
 "cells": [
  {
   "cell_type": "code",
   "execution_count": 1,
   "id": "progressive-therapist",
   "metadata": {},
   "outputs": [],
   "source": [
    "import sys\n",
    "sys.path.append(\"./dssm\")\n",
    "import argparse\n",
    "\n",
    "from model import SSM\n",
    "from dataloader import MyDataLoader\n",
    "from trainer import Trainer\n",
    "from datetime import datetime\n",
    "\n",
    "def eval_pred(args):\n",
    "    parser = argparse.ArgumentParser()\n",
    "    parser.add_argument(\"--device\", type=int, nargs=\"+\", default=[0])\n",
    "    parser.add_argument(\"--data_dir\", type=str, default=\"./data/\")\n",
    "    parser.add_argument(\"--epochs\", type=int, default=20)\n",
    "    parser.add_argument(\"--iters_to_accumulate\", type=int, default=1)\n",
    "    parser.add_argument(\"--B\", type=int, default=64)\n",
    "    parser.add_argument(\"--T\", type=int, default=10)\n",
    "    parser.add_argument(\"--H\", type=int, default=100)\n",
    "    parser.add_argument(\"--depth\", type=int, default=0)\n",
    "    parser.add_argument(\"--s_dim\", type=int, default=64)\n",
    "    parser.add_argument(\"--a_dim\", type=int, default=6)\n",
    "    parser.add_argument(\"--o_dim\", type=int, default=17)\n",
    "    parser.add_argument(\"--h_dim\", type=int, default=128)\n",
    "    parser.add_argument(\"--seed\", type=int, default=0)\n",
    "    parser.add_argument(\"--timestamp\", type=str, default=None)\n",
    "    parser.add_argument(\"--load_epoch\", type=int, default=None)\n",
    "    args = parser.parse_args(args.split())\n",
    "    if args.timestamp is None:\n",
    "        args.timestamp = datetime.now().strftime(\"%b%d_%H-%M-%S\")\n",
    "\n",
    "    # set seed\n",
    "    model = SSM(args)\n",
    "    train_loader = MyDataLoader(\"train\", 0, args)\n",
    "    test_loader = MyDataLoader(\"test\", 0, args)\n",
    "\n",
    "    trainer = Trainer(model,\n",
    "                      train_loader,\n",
    "                      test_loader,\n",
    "                      args)\n",
    "    trainer.test(0)"
   ]
  },
  {
   "cell_type": "code",
   "execution_count": 2,
   "id": "different-truck",
   "metadata": {},
   "outputs": [
    {
     "name": "stdout",
     "output_type": "stream",
     "text": [
      "(900, 100, 6) (900, 100, 17)\n",
      "(100, 100, 6) (100, 100, 17)\n"
     ]
    },
    {
     "name": "stderr",
     "output_type": "stream",
     "text": [
      "[I 210224 00:11:59 trainer:53] (test) Epoch: 0 {'s_loss': 4100631040.0, 'x_loss': 261.95477294921875, 'loss': 4100631296.0, 's_aux_loss': 86.66925048828125}\n"
     ]
    }
   ],
   "source": [
    "eval_pred(\"--timestamp Feb24_00-10-17 --load_epoch 10\")"
   ]
  },
  {
   "cell_type": "code",
   "execution_count": 3,
   "id": "young-surprise",
   "metadata": {},
   "outputs": [
    {
     "name": "stdout",
     "output_type": "stream",
     "text": [
      "(900, 100, 6) (900, 100, 17)\n",
      "(100, 100, 6) (100, 100, 17)\n"
     ]
    },
    {
     "name": "stderr",
     "output_type": "stream",
     "text": [
      "[I 210224 00:12:39 trainer:53] (test) Epoch: 0 {'s_loss': 46679719936.0, 'x_loss': 250.50103759765625, 'loss': 46679719936.0, 's_aux_loss': 106.02987670898438}\n"
     ]
    }
   ],
   "source": [
    "eval_pred(\"--timestamp Feb24_00-10-50 --load_epoch 10\")"
   ]
  },
  {
   "cell_type": "code",
   "execution_count": null,
   "id": "protected-brooks",
   "metadata": {},
   "outputs": [],
   "source": []
  }
 ],
 "metadata": {
  "kernelspec": {
   "display_name": "Python 3",
   "language": "python",
   "name": "python3"
  },
  "language_info": {
   "codemirror_mode": {
    "name": "ipython",
    "version": 3
   },
   "file_extension": ".py",
   "mimetype": "text/x-python",
   "name": "python",
   "nbconvert_exporter": "python",
   "pygments_lexer": "ipython3",
   "version": "3.5.10"
  }
 },
 "nbformat": 4,
 "nbformat_minor": 5
}
